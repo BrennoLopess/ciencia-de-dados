{
 "cells": [
  {
   "cell_type": "code",
   "execution_count": 9,
   "id": "a249646c",
   "metadata": {},
   "outputs": [],
   "source": [
    "import pandas as pd"
   ]
  },
  {
   "cell_type": "code",
   "execution_count": 10,
   "id": "bf457e78",
   "metadata": {},
   "outputs": [],
   "source": [
    "df = pd.read_csv(r'C:\\Users\\brenn\\OneDrive\\Área de Trabalho\\Estudo Modelagem Python\\Regressão\\Regressão Linear\\jogadores_fifa.csv')"
   ]
  },
  {
   "cell_type": "code",
   "execution_count": 11,
   "id": "cd5f365c",
   "metadata": {},
   "outputs": [],
   "source": [
    "# Passo 1: Limpeza dos dados\n",
    "# Remover valores ausentes nas colunas relevantes para a regressão\n",
    "data_cleaned = df.dropna(subset=['short_passing', 'positioning', 'composure', \n",
    "                                           'velocidade', 'finalizacao', 'drible', 'fisico', \n",
    "                                           'overall_rating'])\n"
   ]
  },
  {
   "cell_type": "code",
   "execution_count": 12,
   "id": "73e2583f",
   "metadata": {},
   "outputs": [],
   "source": [
    "from sklearn.model_selection import train_test_split\n",
    "from sklearn.preprocessing import StandardScaler\n",
    "\n",
    "# Passo 2: Preparação dos dados\n",
    "# Selecionar as variáveis preditoras e a variável alvo\n",
    "X = data_cleaned[['short_passing', 'positioning', 'composure', \n",
    "                  'velocidade', 'finalizacao', 'drible', 'fisico']]\n",
    "y = data_cleaned['overall_rating']\n",
    "\n",
    "# Dividir os dados em conjuntos de treino e teste (80% treino, 20% teste)\n",
    "X_train, X_test, y_train, y_test = train_test_split(X, y, test_size=0.2, random_state=42)\n",
    "\n",
    "# Normalizar os dados para melhorar a performance do modelo\n",
    "scaler = StandardScaler()\n",
    "X_train_scaled = scaler.fit_transform(X_train)\n",
    "X_test_scaled = scaler.transform(X_test)\n"
   ]
  },
  {
   "cell_type": "code",
   "execution_count": 13,
   "id": "88b1e571",
   "metadata": {},
   "outputs": [],
   "source": [
    "from sklearn.linear_model import LinearRegression\n",
    "from sklearn.metrics import mean_squared_error, r2_score\n",
    "\n",
    "# Passo 3: Treinamento do modelo\n",
    "# Inicializar o modelo de Regressão Linear\n",
    "model = LinearRegression()\n",
    "\n",
    "# Treinar o modelo com os dados de treino\n",
    "model.fit(X_train_scaled, y_train)\n",
    "\n",
    "# Fazer previsões no conjunto de teste\n",
    "y_pred = model.predict(X_test_scaled)\n",
    "\n",
    "# Avaliar a performance do modelo usando R² e erro quadrático médio (MSE)\n",
    "mse = mean_squared_error(y_test, y_pred)\n",
    "r2 = r2_score(y_test, y_pred)\n"
   ]
  },
  {
   "cell_type": "code",
   "execution_count": 14,
   "id": "8ff239df",
   "metadata": {},
   "outputs": [
    {
     "name": "stdout",
     "output_type": "stream",
     "text": [
      "Digite os atributos do atacante:\n",
      "Short Passing: 90\n",
      "Positioning: 88\n",
      "Composure: 80\n",
      "Velocidade: 80\n",
      "Finalização: 80\n",
      "Drible: 80\n",
      "Físico: 80\n",
      "\n",
      "O overall previsto para o atacante é: 85.63\n"
     ]
    },
    {
     "name": "stderr",
     "output_type": "stream",
     "text": [
      "C:\\Users\\brenn\\anaconda3\\Lib\\site-packages\\sklearn\\base.py:493: UserWarning: X does not have valid feature names, but StandardScaler was fitted with feature names\n",
      "  warnings.warn(\n"
     ]
    }
   ],
   "source": [
    "import numpy as np\n",
    "\n",
    "# Função para prever o overall de um atacante\n",
    "def prever_overall(model, scaler):\n",
    "    print(\"Digite os atributos do atacante:\")\n",
    "    short_passing = float(input(\"Short Passing: \"))\n",
    "    positioning = float(input(\"Positioning: \"))\n",
    "    composure = float(input(\"Composure: \"))\n",
    "    velocidade = float(input(\"Velocidade: \"))\n",
    "    finalizacao = float(input(\"Finalização: \"))\n",
    "    drible = float(input(\"Drible: \"))\n",
    "    fisico = float(input(\"Físico: \"))\n",
    "    \n",
    "    # Organizar os dados em uma lista e escalá-los\n",
    "    new_data = np.array([[short_passing, positioning, composure, velocidade, finalizacao, drible, fisico]])\n",
    "    new_data_scaled = scaler.transform(new_data)\n",
    "    \n",
    "    # Fazer a previsão\n",
    "    prediction = model.predict(new_data_scaled)\n",
    "    print(f\"\\nO overall previsto para o atacante é: {prediction[0]:.2f}\")\n",
    "\n",
    "# Chamar a função para prever\n",
    "prever_overall(model, scaler)\n"
   ]
  },
  {
   "cell_type": "code",
   "execution_count": 16,
   "id": "996bfd60",
   "metadata": {},
   "outputs": [
    {
     "name": "stdout",
     "output_type": "stream",
     "text": [
      "Erro Quadrático Médio (MSE): 5.21\n",
      "Coeficiente de Determinação (R²): 0.90\n"
     ]
    }
   ],
   "source": [
    "from sklearn.model_selection import train_test_split\n",
    "from sklearn.preprocessing import StandardScaler\n",
    "from sklearn.linear_model import LinearRegression\n",
    "from sklearn.metrics import mean_squared_error, r2_score\n",
    "\n",
    "# Passo 1: Selecionar as variáveis preditoras (sem 'composure' e 'positioning') e a variável alvo\n",
    "X = data_cleaned[['short_passing', 'velocidade', 'finalizacao', 'drible', 'fisico']]\n",
    "y = data_cleaned['overall_rating']\n",
    "\n",
    "# Passo 2: Dividir os dados em conjuntos de treino e teste (80% treino, 20% teste)\n",
    "X_train, X_test, y_train, y_test = train_test_split(X, y, test_size=0.2, random_state=42)\n",
    "\n",
    "# Passo 3: Normalizar os dados para melhorar a performance do modelo\n",
    "scaler = StandardScaler()\n",
    "X_train_scaled = scaler.fit_transform(X_train)\n",
    "X_test_scaled = scaler.transform(X_test)\n",
    "\n",
    "# Passo 4: Treinar o modelo de Regressão Linear\n",
    "model = LinearRegression()\n",
    "model.fit(X_train_scaled, y_train)\n",
    "\n",
    "# Passo 5: Avaliar o modelo\n",
    "y_pred = model.predict(X_test_scaled)\n",
    "mse = mean_squared_error(y_test, y_pred)\n",
    "r2 = r2_score(y_test, y_pred)\n",
    "\n",
    "# Resultados da avaliação\n",
    "print(f\"Erro Quadrático Médio (MSE): {mse:.2f}\")\n",
    "print(f\"Coeficiente de Determinação (R²): {r2:.2f}\")\n"
   ]
  },
  {
   "cell_type": "code",
   "execution_count": 17,
   "id": "881dc7eb",
   "metadata": {},
   "outputs": [
    {
     "name": "stdout",
     "output_type": "stream",
     "text": [
      "Digite os atributos do atacante:\n",
      "Short Passing: 90\n",
      "Velocidade: 99\n",
      "Finalização: 93\n",
      "Drible: 95\n",
      "Físico: 85\n",
      "\n",
      "O overall previsto para o atacante é: 94.56\n"
     ]
    },
    {
     "name": "stderr",
     "output_type": "stream",
     "text": [
      "C:\\Users\\brenn\\anaconda3\\Lib\\site-packages\\sklearn\\base.py:493: UserWarning: X does not have valid feature names, but StandardScaler was fitted with feature names\n",
      "  warnings.warn(\n"
     ]
    }
   ],
   "source": [
    "# Função atualizada para prever o overall de um atacante sem 'composure' e 'positioning'\n",
    "def prever_overall_sem_composure_e_positioning(model, scaler):\n",
    "    print(\"Digite os atributos do atacante:\")\n",
    "    short_passing = float(input(\"Short Passing: \"))\n",
    "    velocidade = float(input(\"Velocidade: \"))\n",
    "    finalizacao = float(input(\"Finalização: \"))\n",
    "    drible = float(input(\"Drible: \"))\n",
    "    fisico = float(input(\"Físico: \"))\n",
    "    \n",
    "    # Organizar os dados em uma lista e escalá-los\n",
    "    new_data = np.array([[short_passing, velocidade, finalizacao, drible, fisico]])\n",
    "    new_data_scaled = scaler.transform(new_data)\n",
    "    \n",
    "    # Fazer a previsão\n",
    "    prediction = model.predict(new_data_scaled)\n",
    "    print(f\"\\nO overall previsto para o atacante é: {prediction[0]:.2f}\")\n",
    "\n",
    "# Chamar a função atualizada para prever\n",
    "prever_overall_sem_composure_e_positioning(model, scaler)\n"
   ]
  },
  {
   "cell_type": "code",
   "execution_count": null,
   "id": "99bf2d2c",
   "metadata": {},
   "outputs": [],
   "source": []
  }
 ],
 "metadata": {
  "kernelspec": {
   "display_name": "Python 3 (ipykernel)",
   "language": "python",
   "name": "python3"
  },
  "language_info": {
   "codemirror_mode": {
    "name": "ipython",
    "version": 3
   },
   "file_extension": ".py",
   "mimetype": "text/x-python",
   "name": "python",
   "nbconvert_exporter": "python",
   "pygments_lexer": "ipython3",
   "version": "3.11.5"
  }
 },
 "nbformat": 4,
 "nbformat_minor": 5
}
